{
  "nbformat": 4,
  "nbformat_minor": 0,
  "metadata": {
    "colab": {
      "name": "Book Recommender.ipynb",
      "provenance": [],
      "authorship_tag": "ABX9TyPjbFBiA1aNrNNFWDrSbUcN",
      "include_colab_link": true
    },
    "kernelspec": {
      "name": "python3",
      "display_name": "Python 3"
    }
  },
  "cells": [
    {
      "cell_type": "markdown",
      "metadata": {
        "id": "view-in-github",
        "colab_type": "text"
      },
      "source": [
        "<a href=\"https://colab.research.google.com/github/mfmarlonferrari/appLeituraDataset/blob/main/Book_Recommender.ipynb\" target=\"_parent\"><img src=\"https://colab.research.google.com/assets/colab-badge.svg\" alt=\"Open In Colab\"/></a>"
      ]
    },
    {
      "cell_type": "code",
      "metadata": {
        "id": "olIHSY5x-VDn"
      },
      "source": [
        "import pandas as pd\n",
        "\n",
        "dataset = pd.read_csv('https://raw.githubusercontent.com/mfmarlonferrari/appLeituraDataset/main/dataset_form.csv')"
      ],
      "execution_count": 2,
      "outputs": []
    },
    {
      "cell_type": "code",
      "metadata": {
        "id": "zsRNK-0F-76E",
        "outputId": "7ee7cd2b-96b5-4da9-d91e-62c5786ebfe3",
        "colab": {
          "base_uri": "https://localhost:8080/",
          "height": 295
        }
      },
      "source": [
        "dataset.head()"
      ],
      "execution_count": 3,
      "outputs": [
        {
          "output_type": "execute_result",
          "data": {
            "text/html": [
              "<div>\n",
              "<style scoped>\n",
              "    .dataframe tbody tr th:only-of-type {\n",
              "        vertical-align: middle;\n",
              "    }\n",
              "\n",
              "    .dataframe tbody tr th {\n",
              "        vertical-align: top;\n",
              "    }\n",
              "\n",
              "    .dataframe thead th {\n",
              "        text-align: right;\n",
              "    }\n",
              "</style>\n",
              "<table border=\"1\" class=\"dataframe\">\n",
              "  <thead>\n",
              "    <tr style=\"text-align: right;\">\n",
              "      <th></th>\n",
              "      <th>Carimbo de data/hora</th>\n",
              "      <th>Título do Livro Lido:</th>\n",
              "      <th>Com quantos anos você leu esse livro?</th>\n",
              "      <th>Quanto tempo você gastou para ler?(Tempo em meses)</th>\n",
              "      <th>Em uma escala o quanto você gostou do livro?</th>\n",
              "      <th>Qual sentimento esse livro provocou em você?</th>\n",
              "    </tr>\n",
              "  </thead>\n",
              "  <tbody>\n",
              "    <tr>\n",
              "      <th>0</th>\n",
              "      <td>2020/10/01 12:37:28 PM GMT-3</td>\n",
              "      <td>Dom Casmurro</td>\n",
              "      <td>13</td>\n",
              "      <td>2.0</td>\n",
              "      <td>5</td>\n",
              "      <td>Reflexão</td>\n",
              "    </tr>\n",
              "    <tr>\n",
              "      <th>1</th>\n",
              "      <td>2020/10/01 1:30:35 PM GMT-3</td>\n",
              "      <td>Sim, Sesinho</td>\n",
              "      <td>13</td>\n",
              "      <td>1.0</td>\n",
              "      <td>5</td>\n",
              "      <td>Alegria</td>\n",
              "    </tr>\n",
              "    <tr>\n",
              "      <th>2</th>\n",
              "      <td>2020/10/01 1:34:57 PM GMT-3</td>\n",
              "      <td>Vários</td>\n",
              "      <td>27</td>\n",
              "      <td>300.0</td>\n",
              "      <td>5</td>\n",
              "      <td>Motivação</td>\n",
              "    </tr>\n",
              "    <tr>\n",
              "      <th>3</th>\n",
              "      <td>2020/10/01 1:35:47 PM GMT-3</td>\n",
              "      <td>Querido John</td>\n",
              "      <td>15</td>\n",
              "      <td>1.0</td>\n",
              "      <td>5</td>\n",
              "      <td>Raiva</td>\n",
              "    </tr>\n",
              "    <tr>\n",
              "      <th>4</th>\n",
              "      <td>2020/10/01 1:36:42 PM GMT-3</td>\n",
              "      <td>Vários</td>\n",
              "      <td>13</td>\n",
              "      <td>1.0</td>\n",
              "      <td>5</td>\n",
              "      <td>Reflexão</td>\n",
              "    </tr>\n",
              "  </tbody>\n",
              "</table>\n",
              "</div>"
            ],
            "text/plain": [
              "           Carimbo de data/hora  ... Qual sentimento esse livro provocou em você?\n",
              "0  2020/10/01 12:37:28 PM GMT-3  ...                                     Reflexão\n",
              "1   2020/10/01 1:30:35 PM GMT-3  ...                                      Alegria\n",
              "2   2020/10/01 1:34:57 PM GMT-3  ...                                    Motivação\n",
              "3   2020/10/01 1:35:47 PM GMT-3  ...                                        Raiva\n",
              "4   2020/10/01 1:36:42 PM GMT-3  ...                                     Reflexão\n",
              "\n",
              "[5 rows x 6 columns]"
            ]
          },
          "metadata": {
            "tags": []
          },
          "execution_count": 3
        }
      ]
    },
    {
      "cell_type": "code",
      "metadata": {
        "id": "uM5x22Lk-9GB"
      },
      "source": [
        "import requests\n",
        "from bs4 import BeautifulSoup\n",
        "\n",
        "headers_Get = {\n",
        "        'User-Agent': 'Mozilla/5.0 (Windows NT 6.1; WOW64; rv:49.0) Gecko/20100101 Firefox/49.0',\n",
        "        'Accept': 'text/html,application/xhtml+xml,application/xml;q=0.9,*/*;q=0.8',\n",
        "        'Accept-Language': 'pt-BR,en;q=0.5',\n",
        "        'Accept-Encoding': 'gzip, deflate',\n",
        "        'DNT': '1',\n",
        "        'Connection': 'keep-alive',\n",
        "        'Upgrade-Insecure-Requests': '1'\n",
        "    }\n",
        "\n",
        "def buscaLivroGoogle(titulo):\n",
        "  url = 'https://www.google.com/search?tbo=p&tbm=bks&q=%s&num=10' %titulo.replace(' ','+').replace('Sim','').replace(',','')\n",
        "  r = requests.get(url, headers=headers_Get)\n",
        "\n",
        "  soup = BeautifulSoup(r.content,\"html.parser\")\n",
        "\n",
        "  titulo_tag = soup.find('h3') \n",
        "  titulo_texto = titulo_tag.text\n",
        "\n",
        "  return titulo_texto"
      ],
      "execution_count": null,
      "outputs": []
    },
    {
      "cell_type": "code",
      "metadata": {
        "id": "QBOBXmRkH5cP",
        "outputId": "4b5f5443-b89b-465e-b5b2-65924fe7617e",
        "colab": {
          "base_uri": "https://localhost:8080/",
          "height": 36
        }
      },
      "source": [
        "buscaLivroGoogle('Dom quixote')"
      ],
      "execution_count": null,
      "outputs": [
        {
          "output_type": "execute_result",
          "data": {
            "application/vnd.google.colaboratory.intrinsic+json": {
              "type": "string"
            },
            "text/plain": [
              "'O fidalgo Dom Quixote de La Mancha'"
            ]
          },
          "metadata": {
            "tags": []
          },
          "execution_count": 40
        }
      ]
    },
    {
      "cell_type": "code",
      "metadata": {
        "id": "RptSDC9YAjZ7"
      },
      "source": [
        "livros = dataset[dataset.columns[1]]"
      ],
      "execution_count": null,
      "outputs": []
    },
    {
      "cell_type": "code",
      "metadata": {
        "id": "pJD_NtGPEHl8"
      },
      "source": [
        "nomes_corretos = []\n",
        "for l in livros:\n",
        "  nomes_corretos.append(buscaLivroGoogle(l))"
      ],
      "execution_count": null,
      "outputs": []
    },
    {
      "cell_type": "code",
      "metadata": {
        "id": "xkrwT3mkGXKk",
        "outputId": "65fe3918-aaa4-42be-e389-c51be588347c",
        "colab": {
          "base_uri": "https://localhost:8080/",
          "height": 1000
        }
      },
      "source": [
        "nomes_corretos"
      ],
      "execution_count": null,
      "outputs": [
        {
          "output_type": "execute_result",
          "data": {
            "text/plain": [
              "['Dom Casmurro: A Novel',\n",
              " 'Sesinho - Edições 101-103',\n",
              " 'Nurikabe Grades de Vários Tamanhos - Médio - Volume 9 - 276 ...',\n",
              " 'Querido John',\n",
              " 'Nurikabe Grades de Vários Tamanhos - Médio - Volume 9 - 276 ...',\n",
              " 'O alquimista',\n",
              " 'Não sou uma dessas',\n",
              " \"Triumph of the Walking Dead: Robert Kirkman's Zombie Epic on ...\",\n",
              " 'A revolução dos bichos',\n",
              " 'Percy Jackson e os Ladrões do Olimpo',\n",
              " 'AGVA News - Volumes 9-14 - Página 16',\n",
              " 'O Archivo popular - Volume 5 - Página 140',\n",
              " 'B I B L I O T E C A',\n",
              " 'O Caçador de Pipas',\n",
              " 'Sendo-Me presente o extraordinario abuso, com que os ...',\n",
              " 'O Índio do Brasil na literatura portuguesa dos séculos XVI, ...',\n",
              " 'Os elefantes não esquecem',\n",
              " 'Justino, o retirante',\n",
              " 'O dia do curinga',\n",
              " 'Princesa das águas: O primeiro desafio',\n",
              " 'O Pequeno Príncipe',\n",
              " 'Percorsi formativi nella saga di Harry Potter',\n",
              " 'O Hobbit',\n",
              " 'Querido John',\n",
              " 'A Magia de Arbatel',\n",
              " 'F*deu Geral',\n",
              " 'Confissões de uma garota excluída, mal-amada e (um pouco) ...',\n",
              " 'Maturidade: O Acesso à herança plena',\n",
              " 'O Mundo De Gelo E Fogo',\n",
              " 'Dom Casmurro: A Novel',\n",
              " 'Jogos vorazes',\n",
              " 'A Cabana',\n",
              " 'Ecos de uma viagem: em honra de Eduardo Mayone Dias',\n",
              " 'Viagem ao Centro da Terra: Texto adaptado',\n",
              " 'Um Beijo',\n",
              " 'Dom Casmurro: A Novel',\n",
              " 'História de uma alma: Manuscritos autobiográficos',\n",
              " 'Bichos, bicho!',\n",
              " 'O imbecil coletivo: atualidades inculturais brasileiras',\n",
              " 'Halo: Saga completa',\n",
              " 'Adventures of Sherlock Holmes',\n",
              " '500 Dias Sem/com Você',\n",
              " 'Corte de espinhos e rosas - Corte de espinhos e rosas - vol. 1',\n",
              " 'Corte de névoa e fúria - Corte de espinhos e rosas - vol. 2',\n",
              " 'Corte de asas e ruína - Corte de espinhos e rosas - vol. 3',\n",
              " 'O Ladrão de Raios',\n",
              " 'O mar de monstros',\n",
              " 'A maldição do Titã',\n",
              " 'A batalha do labirinto',\n",
              " 'O último olimpiano',\n",
              " 'A Cabana',\n",
              " 'Pregação Poderosa para o Crescimento da Igreja - Página 196',\n",
              " 'O herói perdido',\n",
              " 'O filho de Netuno',\n",
              " 'A marca de Atena',\n",
              " 'A casa de Hades',\n",
              " 'O sangue do Olimpo',\n",
              " 'A espada do verão',\n",
              " 'O martelo de Thor',\n",
              " 'O navio dos mortos',\n",
              " 'O oráculo oculto',\n",
              " 'A profecia das sombras',\n",
              " 'O labirinto de fogo',\n",
              " 'A Tumba Do Tirano',\n",
              " 'A pirâmide vermelha',\n",
              " 'O trono de fogo',\n",
              " 'A sombra da Serpente',\n",
              " 'O Código Da Vinci',\n",
              " 'Inferno',\n",
              " 'Anjos E Demônios Dan Brown - Página 1',\n",
              " 'O Símbolo Perdido',\n",
              " 'Harry Potter e a Pedra Filosofal',\n",
              " 'O Ladrão de Raios',\n",
              " 'Naruto Forever: The Unofficial Guide - Página 4',\n",
              " 'Water Resources Survey, Cascade County, Montana - Página 66',\n",
              " '9 vezes Orgulho e Preconceito',\n",
              " '9 vezes Orgulho e Preconceito',\n",
              " 'Admirável mundo novo',\n",
              " 'Anais do Senado - Página 191',\n",
              " 'Histórias de Sherlock Holmes',\n",
              " 'O guia definitivo do mochileiro das galáxias',\n",
              " 'O grande desafio',\n",
              " 'O último lusitano: romance - Página 182',\n",
              " 'O príncipe de Lucas - dos tupis aos sovietes - Página 176',\n",
              " 'Harry Potter e a Pedra Filosofal',\n",
              " 'Harry Potter E A Câmara Secreta (capa Dura) – Ediç',\n",
              " 'Harry Potter e o prisioneiro de Azkaban',\n",
              " 'Simples Assim',\n",
              " 'Harry Potter e o Cálice de Fogo',\n",
              " 'Harry Potter e a Ordem da Fênix',\n",
              " 'Harry Potter e o enigma do Príncipe',\n",
              " 'Harry Potter e as Relíquias da Morte',\n",
              " 'O Ladrão de Raios',\n",
              " 'O mar de monstros',\n",
              " 'A maldição do Titã',\n",
              " 'A batalha do labirinto',\n",
              " 'O último olimpiano',\n",
              " 'Halo: Saga completa',\n",
              " 'Drácula',\n",
              " 'O senhor da chuva',\n",
              " 'Por que a casa cai: do diário de uma monitora de ... - Página 87',\n",
              " 'O QUARTO VERMELHO',\n",
              " 'Playboy: álbum de capas : 1975/2005 : a história da revista ...',\n",
              " 'Elektronik terazi yeni kutusunda büyük akülü 150 kg luk 40 x 30 ebat',\n",
              " 'Coração das trevas',\n",
              " 'Divergente (trilogia) – Wikipédia, a enciclopédia livre',\n",
              " 'Diário de Um Banana',\n",
              " 'O azarão',\n",
              " 'O Escaravelho de Ouro e outras histórias',\n",
              " 'documentário - WordPress.com',\n",
              " 'O Vendedor de Sonhos: O achamento',\n",
              " 'Carandiru: a prisão, o psiquiatra e o preso',\n",
              " 'Depois daquela viagem: diário de bordo de uma jovem que ...',\n",
              " 'Desenho de giz']"
            ]
          },
          "metadata": {
            "tags": []
          },
          "execution_count": 44
        }
      ]
    },
    {
      "cell_type": "code",
      "metadata": {
        "id": "uQejySrPGZsp"
      },
      "source": [
        "ds_livros = pd.DataFrame(nomes_corretos)"
      ],
      "execution_count": null,
      "outputs": []
    },
    {
      "cell_type": "code",
      "metadata": {
        "id": "6sEyUg5ZNpzk"
      },
      "source": [
        "dataset_livros_correto = dataset.copy()\n",
        "dataset_livros_correto['titulo_books'] = ds_livros"
      ],
      "execution_count": null,
      "outputs": []
    },
    {
      "cell_type": "code",
      "metadata": {
        "id": "eLbnlW7RO6Nn",
        "outputId": "b9f32d6b-237e-4ecd-9d50-3d55c1973cbd",
        "colab": {
          "base_uri": "https://localhost:8080/",
          "height": 124
        }
      },
      "source": [
        "dataset_livros_correto.columns"
      ],
      "execution_count": null,
      "outputs": [
        {
          "output_type": "execute_result",
          "data": {
            "text/plain": [
              "Index(['Carimbo de data/hora', 'Você já leu algum livro? Caso sim, Qual? ',\n",
              "       'Com quantos anos você leu esse livro?',\n",
              "       'Quanto tempo você gastou para ler?(Tempo em meses)',\n",
              "       'Em uma escala o quanto você gostou do livro?',\n",
              "       'Qual sentimento esse livro provocou em você?', 'titulo_books'],\n",
              "      dtype='object')"
            ]
          },
          "metadata": {
            "tags": []
          },
          "execution_count": 51
        }
      ]
    },
    {
      "cell_type": "code",
      "metadata": {
        "id": "qUAQGzx6Nqul",
        "outputId": "6b6a5713-2dc5-43a8-8b8a-1cc2c99aa382",
        "colab": {
          "base_uri": "https://localhost:8080/",
          "height": 634
        }
      },
      "source": [
        "dataset_livros_correto[[dataset_livros_correto.columns[1], 'titulo_books']].sample(20)"
      ],
      "execution_count": null,
      "outputs": [
        {
          "output_type": "execute_result",
          "data": {
            "text/html": [
              "<div>\n",
              "<style scoped>\n",
              "    .dataframe tbody tr th:only-of-type {\n",
              "        vertical-align: middle;\n",
              "    }\n",
              "\n",
              "    .dataframe tbody tr th {\n",
              "        vertical-align: top;\n",
              "    }\n",
              "\n",
              "    .dataframe thead th {\n",
              "        text-align: right;\n",
              "    }\n",
              "</style>\n",
              "<table border=\"1\" class=\"dataframe\">\n",
              "  <thead>\n",
              "    <tr style=\"text-align: right;\">\n",
              "      <th></th>\n",
              "      <th>Você já leu algum livro? Caso sim, Qual?</th>\n",
              "      <th>titulo_books</th>\n",
              "    </tr>\n",
              "  </thead>\n",
              "  <tbody>\n",
              "    <tr>\n",
              "      <th>65</th>\n",
              "      <td>O Trono de Fogo</td>\n",
              "      <td>O trono de fogo</td>\n",
              "    </tr>\n",
              "    <tr>\n",
              "      <th>30</th>\n",
              "      <td>Sim. Jogos Vorazes</td>\n",
              "      <td>Jogos vorazes</td>\n",
              "    </tr>\n",
              "    <tr>\n",
              "      <th>81</th>\n",
              "      <td>O grande desafio</td>\n",
              "      <td>O grande desafio</td>\n",
              "    </tr>\n",
              "    <tr>\n",
              "      <th>3</th>\n",
              "      <td>Querido John</td>\n",
              "      <td>Querido John</td>\n",
              "    </tr>\n",
              "    <tr>\n",
              "      <th>17</th>\n",
              "      <td>Justino , o retirante</td>\n",
              "      <td>Justino, o retirante</td>\n",
              "    </tr>\n",
              "    <tr>\n",
              "      <th>58</th>\n",
              "      <td>O Martelo de Thor</td>\n",
              "      <td>O martelo de Thor</td>\n",
              "    </tr>\n",
              "    <tr>\n",
              "      <th>54</th>\n",
              "      <td>A Marca de Atena</td>\n",
              "      <td>A marca de Atena</td>\n",
              "    </tr>\n",
              "    <tr>\n",
              "      <th>100</th>\n",
              "      <td>A casa caiu</td>\n",
              "      <td>Por que a casa cai: do diário de uma monitora ...</td>\n",
              "    </tr>\n",
              "    <tr>\n",
              "      <th>68</th>\n",
              "      <td>Inferno</td>\n",
              "      <td>Inferno</td>\n",
              "    </tr>\n",
              "    <tr>\n",
              "      <th>71</th>\n",
              "      <td>Harry Potter e a Pedra Filosofal</td>\n",
              "      <td>Harry Potter e a Pedra Filosofal</td>\n",
              "    </tr>\n",
              "    <tr>\n",
              "      <th>27</th>\n",
              "      <td>Maturidade - Luciano Subira</td>\n",
              "      <td>Maturidade: O Acesso à herança plena</td>\n",
              "    </tr>\n",
              "    <tr>\n",
              "      <th>43</th>\n",
              "      <td>Corte de Névoa e Fúria</td>\n",
              "      <td>Corte de névoa e fúria - Corte de espinhos e r...</td>\n",
              "    </tr>\n",
              "    <tr>\n",
              "      <th>37</th>\n",
              "      <td>Sim, ciça.</td>\n",
              "      <td>Bichos, bicho!</td>\n",
              "    </tr>\n",
              "    <tr>\n",
              "      <th>94</th>\n",
              "      <td>A Maldição do Titã</td>\n",
              "      <td>A maldição do Titã</td>\n",
              "    </tr>\n",
              "    <tr>\n",
              "      <th>86</th>\n",
              "      <td>Harry Potter e o Prisioneiro de Azkaban</td>\n",
              "      <td>Harry Potter e o prisioneiro de Azkaban</td>\n",
              "    </tr>\n",
              "    <tr>\n",
              "      <th>102</th>\n",
              "      <td>Playboy</td>\n",
              "      <td>Playboy: álbum de capas : 1975/2005 : a histór...</td>\n",
              "    </tr>\n",
              "    <tr>\n",
              "      <th>53</th>\n",
              "      <td>O Filho de Netuno</td>\n",
              "      <td>O filho de Netuno</td>\n",
              "    </tr>\n",
              "    <tr>\n",
              "      <th>90</th>\n",
              "      <td>Harry Potter e o Enigma do Príncipe</td>\n",
              "      <td>Harry Potter e o enigma do Príncipe</td>\n",
              "    </tr>\n",
              "    <tr>\n",
              "      <th>103</th>\n",
              "      <td>Luk40x</td>\n",
              "      <td>Elektronik terazi yeni kutusunda büyük akülü 1...</td>\n",
              "    </tr>\n",
              "    <tr>\n",
              "      <th>21</th>\n",
              "      <td>A Saga do Harry Potter</td>\n",
              "      <td>Percorsi formativi nella saga di Harry Potter</td>\n",
              "    </tr>\n",
              "  </tbody>\n",
              "</table>\n",
              "</div>"
            ],
            "text/plain": [
              "    Você já leu algum livro? Caso sim, Qual?                                        titulo_books\n",
              "65                            O Trono de Fogo                                    O trono de fogo\n",
              "30                        Sim. Jogos Vorazes                                       Jogos vorazes\n",
              "81                           O grande desafio                                   O grande desafio\n",
              "3                                Querido John                                       Querido John\n",
              "17                     Justino , o retirante                                Justino, o retirante\n",
              "58                          O Martelo de Thor                                  O martelo de Thor\n",
              "54                           A Marca de Atena                                   A marca de Atena\n",
              "100                               A casa caiu  Por que a casa cai: do diário de uma monitora ...\n",
              "68                                    Inferno                                            Inferno\n",
              "71           Harry Potter e a Pedra Filosofal                   Harry Potter e a Pedra Filosofal\n",
              "27                Maturidade - Luciano Subira               Maturidade: O Acesso à herança plena\n",
              "43                     Corte de Névoa e Fúria  Corte de névoa e fúria - Corte de espinhos e r...\n",
              "37                                Sim, ciça.                                      Bichos, bicho!\n",
              "94                         A Maldição do Titã                                 A maldição do Titã\n",
              "86    Harry Potter e o Prisioneiro de Azkaban            Harry Potter e o prisioneiro de Azkaban\n",
              "102                                   Playboy  Playboy: álbum de capas : 1975/2005 : a histór...\n",
              "53                          O Filho de Netuno                                  O filho de Netuno\n",
              "90        Harry Potter e o Enigma do Príncipe                Harry Potter e o enigma do Príncipe\n",
              "103                                    Luk40x  Elektronik terazi yeni kutusunda büyük akülü 1...\n",
              "21                     A Saga do Harry Potter      Percorsi formativi nella saga di Harry Potter"
            ]
          },
          "metadata": {
            "tags": []
          },
          "execution_count": 57
        }
      ]
    },
    {
      "cell_type": "code",
      "metadata": {
        "id": "g1YPob7ybNA7",
        "outputId": "3cf75fa2-0be4-4f57-c7cd-db2ad73ec609",
        "colab": {
          "base_uri": "https://localhost:8080/",
          "height": 88
        }
      },
      "source": [
        "!pip install textdistance"
      ],
      "execution_count": null,
      "outputs": [
        {
          "output_type": "stream",
          "text": [
            "Collecting textdistance\n",
            "  Downloading https://files.pythonhosted.org/packages/35/71/87133323736b9b0180f600d477507318dae0abde613a54df33bfd0248614/textdistance-4.2.0-py3-none-any.whl\n",
            "Installing collected packages: textdistance\n",
            "Successfully installed textdistance-4.2.0\n"
          ],
          "name": "stdout"
        }
      ]
    },
    {
      "cell_type": "code",
      "metadata": {
        "id": "b4YyRtT4OAqL"
      },
      "source": [
        "from textdistance import levenshtein\n",
        "\n",
        "dataset_livros_correto_dist = dataset_livros_correto.assign(distance=[*map(levenshtein.distance, dataset_livros_correto[dataset_livros_correto.columns[0]], dataset_livros_correto['titulo_books'])])"
      ],
      "execution_count": null,
      "outputs": []
    },
    {
      "cell_type": "code",
      "metadata": {
        "id": "arDlhuPWaWts"
      },
      "source": [
        "#Até 52 é uma distancia segura\n",
        "ds = dataset_livros_correto_dist[dataset_livros_correto_dist['distance'] <= 52]\n",
        "ds = ds[ds.columns[2:-1]]"
      ],
      "execution_count": null,
      "outputs": []
    },
    {
      "cell_type": "code",
      "metadata": {
        "id": "u4J-q_BBdgkx",
        "outputId": "885cfe4f-d5cd-412e-cf0c-e06872dcba2a",
        "colab": {
          "base_uri": "https://localhost:8080/",
          "height": 35
        }
      },
      "source": [
        "ds.shape"
      ],
      "execution_count": null,
      "outputs": [
        {
          "output_type": "execute_result",
          "data": {
            "text/plain": [
              "(98, 5)"
            ]
          },
          "metadata": {
            "tags": []
          },
          "execution_count": 210
        }
      ]
    },
    {
      "cell_type": "code",
      "metadata": {
        "id": "4tSWtOYljYjR",
        "outputId": "a2a90fc6-fb71-4ddb-8663-e97d512dee09",
        "colab": {
          "base_uri": "https://localhost:8080/",
          "height": 484
        }
      },
      "source": [
        "ds"
      ],
      "execution_count": null,
      "outputs": [
        {
          "output_type": "execute_result",
          "data": {
            "text/html": [
              "<div>\n",
              "<style scoped>\n",
              "    .dataframe tbody tr th:only-of-type {\n",
              "        vertical-align: middle;\n",
              "    }\n",
              "\n",
              "    .dataframe tbody tr th {\n",
              "        vertical-align: top;\n",
              "    }\n",
              "\n",
              "    .dataframe thead th {\n",
              "        text-align: right;\n",
              "    }\n",
              "</style>\n",
              "<table border=\"1\" class=\"dataframe\">\n",
              "  <thead>\n",
              "    <tr style=\"text-align: right;\">\n",
              "      <th></th>\n",
              "      <th>Com quantos anos você leu esse livro?</th>\n",
              "      <th>Quanto tempo você gastou para ler?(Tempo em meses)</th>\n",
              "      <th>Em uma escala o quanto você gostou do livro?</th>\n",
              "      <th>Qual sentimento esse livro provocou em você?</th>\n",
              "      <th>titulo_books</th>\n",
              "    </tr>\n",
              "  </thead>\n",
              "  <tbody>\n",
              "    <tr>\n",
              "      <th>0</th>\n",
              "      <td>13</td>\n",
              "      <td>2.0</td>\n",
              "      <td>5</td>\n",
              "      <td>Reflexão</td>\n",
              "      <td>Dom Casmurro: A Novel</td>\n",
              "    </tr>\n",
              "    <tr>\n",
              "      <th>1</th>\n",
              "      <td>13</td>\n",
              "      <td>1.0</td>\n",
              "      <td>5</td>\n",
              "      <td>Alegria</td>\n",
              "      <td>Sesinho - Edições 101-103</td>\n",
              "    </tr>\n",
              "    <tr>\n",
              "      <th>3</th>\n",
              "      <td>15</td>\n",
              "      <td>1.0</td>\n",
              "      <td>5</td>\n",
              "      <td>Raiva</td>\n",
              "      <td>Querido John</td>\n",
              "    </tr>\n",
              "    <tr>\n",
              "      <th>5</th>\n",
              "      <td>23</td>\n",
              "      <td>2.0</td>\n",
              "      <td>5</td>\n",
              "      <td>Reflexão</td>\n",
              "      <td>O alquimista</td>\n",
              "    </tr>\n",
              "    <tr>\n",
              "      <th>6</th>\n",
              "      <td>26</td>\n",
              "      <td>1.0</td>\n",
              "      <td>5</td>\n",
              "      <td>Reflexão</td>\n",
              "      <td>Não sou uma dessas</td>\n",
              "    </tr>\n",
              "    <tr>\n",
              "      <th>...</th>\n",
              "      <td>...</td>\n",
              "      <td>...</td>\n",
              "      <td>...</td>\n",
              "      <td>...</td>\n",
              "      <td>...</td>\n",
              "    </tr>\n",
              "    <tr>\n",
              "      <th>108</th>\n",
              "      <td>22</td>\n",
              "      <td>1.0</td>\n",
              "      <td>5</td>\n",
              "      <td>Paixão</td>\n",
              "      <td>O Escaravelho de Ouro e outras histórias</td>\n",
              "    </tr>\n",
              "    <tr>\n",
              "      <th>109</th>\n",
              "      <td>13</td>\n",
              "      <td>9.0</td>\n",
              "      <td>5</td>\n",
              "      <td>Alegria</td>\n",
              "      <td>documentário - WordPress.com</td>\n",
              "    </tr>\n",
              "    <tr>\n",
              "      <th>110</th>\n",
              "      <td>20</td>\n",
              "      <td>2.0</td>\n",
              "      <td>5</td>\n",
              "      <td>Reflexão</td>\n",
              "      <td>O Vendedor de Sonhos: O achamento</td>\n",
              "    </tr>\n",
              "    <tr>\n",
              "      <th>111</th>\n",
              "      <td>14</td>\n",
              "      <td>3.0</td>\n",
              "      <td>5</td>\n",
              "      <td>Tristeza</td>\n",
              "      <td>Carandiru: a prisão, o psiquiatra e o preso</td>\n",
              "    </tr>\n",
              "    <tr>\n",
              "      <th>113</th>\n",
              "      <td>22</td>\n",
              "      <td>1.0</td>\n",
              "      <td>5</td>\n",
              "      <td>Reflexão</td>\n",
              "      <td>Desenho de giz</td>\n",
              "    </tr>\n",
              "  </tbody>\n",
              "</table>\n",
              "<p>98 rows × 5 columns</p>\n",
              "</div>"
            ],
            "text/plain": [
              "     Com quantos anos você leu esse livro?  ...                                 titulo_books\n",
              "0                                       13  ...                        Dom Casmurro: A Novel\n",
              "1                                       13  ...                    Sesinho - Edições 101-103\n",
              "3                                       15  ...                                 Querido John\n",
              "5                                       23  ...                                 O alquimista\n",
              "6                                       26  ...                           Não sou uma dessas\n",
              "..                                     ...  ...                                          ...\n",
              "108                                     22  ...     O Escaravelho de Ouro e outras histórias\n",
              "109                                     13  ...                 documentário - WordPress.com\n",
              "110                                     20  ...            O Vendedor de Sonhos: O achamento\n",
              "111                                     14  ...  Carandiru: a prisão, o psiquiatra e o preso\n",
              "113                                     22  ...                               Desenho de giz\n",
              "\n",
              "[98 rows x 5 columns]"
            ]
          },
          "metadata": {
            "tags": []
          },
          "execution_count": 211
        }
      ]
    },
    {
      "cell_type": "code",
      "metadata": {
        "id": "NkHKDtd3jafF"
      },
      "source": [
        "##from sklearn.preprocessing import LabelEncoder\n",
        "\n",
        "##le = LabelEncoder().fit(ds.titulo_books)\n",
        "##ds['ID_LIVRO'] = le.transform(ds.titulo_books)\n",
        "\n",
        "#from sklearn.preprocessing import StandardScaler\n",
        "\n",
        "#scaler = StandardScaler()\n",
        "#ds[['idade_leitura', 'tempo_gasto']] = scaler.fit_transform(ds[['idade_leitura', 'tempo_gasto']])"
      ],
      "execution_count": null,
      "outputs": []
    },
    {
      "cell_type": "code",
      "metadata": {
        "id": "z9v5-hWflnaZ"
      },
      "source": [
        "ds.columns = ['idade_leitura', 'tempo_gasto', 'rating', 'sentimento', 'livro']"
      ],
      "execution_count": null,
      "outputs": []
    },
    {
      "cell_type": "code",
      "metadata": {
        "id": "iHQ_aEMmseU3",
        "outputId": "6485935d-a6b3-482b-8971-223eb6ea3d0d",
        "colab": {
          "base_uri": "https://localhost:8080/",
          "height": 399
        }
      },
      "source": [
        "ds"
      ],
      "execution_count": null,
      "outputs": [
        {
          "output_type": "execute_result",
          "data": {
            "text/html": [
              "<div>\n",
              "<style scoped>\n",
              "    .dataframe tbody tr th:only-of-type {\n",
              "        vertical-align: middle;\n",
              "    }\n",
              "\n",
              "    .dataframe tbody tr th {\n",
              "        vertical-align: top;\n",
              "    }\n",
              "\n",
              "    .dataframe thead th {\n",
              "        text-align: right;\n",
              "    }\n",
              "</style>\n",
              "<table border=\"1\" class=\"dataframe\">\n",
              "  <thead>\n",
              "    <tr style=\"text-align: right;\">\n",
              "      <th></th>\n",
              "      <th>idade_leitura</th>\n",
              "      <th>tempo_gasto</th>\n",
              "      <th>rating</th>\n",
              "      <th>sentimento</th>\n",
              "      <th>livro</th>\n",
              "    </tr>\n",
              "  </thead>\n",
              "  <tbody>\n",
              "    <tr>\n",
              "      <th>0</th>\n",
              "      <td>13</td>\n",
              "      <td>2.0</td>\n",
              "      <td>5</td>\n",
              "      <td>Reflexão</td>\n",
              "      <td>Dom Casmurro: A Novel</td>\n",
              "    </tr>\n",
              "    <tr>\n",
              "      <th>1</th>\n",
              "      <td>13</td>\n",
              "      <td>1.0</td>\n",
              "      <td>5</td>\n",
              "      <td>Alegria</td>\n",
              "      <td>Sesinho - Edições 101-103</td>\n",
              "    </tr>\n",
              "    <tr>\n",
              "      <th>3</th>\n",
              "      <td>15</td>\n",
              "      <td>1.0</td>\n",
              "      <td>5</td>\n",
              "      <td>Raiva</td>\n",
              "      <td>Querido John</td>\n",
              "    </tr>\n",
              "    <tr>\n",
              "      <th>5</th>\n",
              "      <td>23</td>\n",
              "      <td>2.0</td>\n",
              "      <td>5</td>\n",
              "      <td>Reflexão</td>\n",
              "      <td>O alquimista</td>\n",
              "    </tr>\n",
              "    <tr>\n",
              "      <th>6</th>\n",
              "      <td>26</td>\n",
              "      <td>1.0</td>\n",
              "      <td>5</td>\n",
              "      <td>Reflexão</td>\n",
              "      <td>Não sou uma dessas</td>\n",
              "    </tr>\n",
              "    <tr>\n",
              "      <th>...</th>\n",
              "      <td>...</td>\n",
              "      <td>...</td>\n",
              "      <td>...</td>\n",
              "      <td>...</td>\n",
              "      <td>...</td>\n",
              "    </tr>\n",
              "    <tr>\n",
              "      <th>108</th>\n",
              "      <td>22</td>\n",
              "      <td>1.0</td>\n",
              "      <td>5</td>\n",
              "      <td>Paixão</td>\n",
              "      <td>O Escaravelho de Ouro e outras histórias</td>\n",
              "    </tr>\n",
              "    <tr>\n",
              "      <th>109</th>\n",
              "      <td>13</td>\n",
              "      <td>9.0</td>\n",
              "      <td>5</td>\n",
              "      <td>Alegria</td>\n",
              "      <td>documentário - WordPress.com</td>\n",
              "    </tr>\n",
              "    <tr>\n",
              "      <th>110</th>\n",
              "      <td>20</td>\n",
              "      <td>2.0</td>\n",
              "      <td>5</td>\n",
              "      <td>Reflexão</td>\n",
              "      <td>O Vendedor de Sonhos: O achamento</td>\n",
              "    </tr>\n",
              "    <tr>\n",
              "      <th>111</th>\n",
              "      <td>14</td>\n",
              "      <td>3.0</td>\n",
              "      <td>5</td>\n",
              "      <td>Tristeza</td>\n",
              "      <td>Carandiru: a prisão, o psiquiatra e o preso</td>\n",
              "    </tr>\n",
              "    <tr>\n",
              "      <th>113</th>\n",
              "      <td>22</td>\n",
              "      <td>1.0</td>\n",
              "      <td>5</td>\n",
              "      <td>Reflexão</td>\n",
              "      <td>Desenho de giz</td>\n",
              "    </tr>\n",
              "  </tbody>\n",
              "</table>\n",
              "<p>98 rows × 5 columns</p>\n",
              "</div>"
            ],
            "text/plain": [
              "     idade_leitura  ...                                        livro\n",
              "0               13  ...                        Dom Casmurro: A Novel\n",
              "1               13  ...                    Sesinho - Edições 101-103\n",
              "3               15  ...                                 Querido John\n",
              "5               23  ...                                 O alquimista\n",
              "6               26  ...                           Não sou uma dessas\n",
              "..             ...  ...                                          ...\n",
              "108             22  ...     O Escaravelho de Ouro e outras histórias\n",
              "109             13  ...                 documentário - WordPress.com\n",
              "110             20  ...            O Vendedor de Sonhos: O achamento\n",
              "111             14  ...  Carandiru: a prisão, o psiquiatra e o preso\n",
              "113             22  ...                               Desenho de giz\n",
              "\n",
              "[98 rows x 5 columns]"
            ]
          },
          "metadata": {
            "tags": []
          },
          "execution_count": 220
        }
      ]
    },
    {
      "cell_type": "code",
      "metadata": {
        "id": "5pQMN989se6o"
      },
      "source": [
        "#ds = pd.get_dummies(ds, columns = ['sentimento'], prefix=['sent_'])"
      ],
      "execution_count": null,
      "outputs": []
    },
    {
      "cell_type": "code",
      "metadata": {
        "id": "GtO8JE6euLe0"
      },
      "source": [
        "from sklearn.cluster import KMeans\n",
        "\n",
        "kmeans = KMeans(n_clusters=5, random_state=0).fit(ds.drop('sentimento', axis=1).drop('livro',axis=1))"
      ],
      "execution_count": null,
      "outputs": []
    },
    {
      "cell_type": "code",
      "metadata": {
        "id": "q-K0WfjU838X"
      },
      "source": [
        "ds['cluster'] = kmeans.labels_"
      ],
      "execution_count": null,
      "outputs": []
    },
    {
      "cell_type": "code",
      "metadata": {
        "id": "Go4smRmO9Wuf",
        "outputId": "71b73a4b-d4c5-4c2f-8c57-ac1aaec813f7",
        "colab": {
          "base_uri": "https://localhost:8080/",
          "height": 399
        }
      },
      "source": [
        "ds"
      ],
      "execution_count": null,
      "outputs": [
        {
          "output_type": "execute_result",
          "data": {
            "text/html": [
              "<div>\n",
              "<style scoped>\n",
              "    .dataframe tbody tr th:only-of-type {\n",
              "        vertical-align: middle;\n",
              "    }\n",
              "\n",
              "    .dataframe tbody tr th {\n",
              "        vertical-align: top;\n",
              "    }\n",
              "\n",
              "    .dataframe thead th {\n",
              "        text-align: right;\n",
              "    }\n",
              "</style>\n",
              "<table border=\"1\" class=\"dataframe\">\n",
              "  <thead>\n",
              "    <tr style=\"text-align: right;\">\n",
              "      <th></th>\n",
              "      <th>idade_leitura</th>\n",
              "      <th>tempo_gasto</th>\n",
              "      <th>rating</th>\n",
              "      <th>sentimento</th>\n",
              "      <th>livro</th>\n",
              "      <th>cluster</th>\n",
              "    </tr>\n",
              "  </thead>\n",
              "  <tbody>\n",
              "    <tr>\n",
              "      <th>0</th>\n",
              "      <td>13</td>\n",
              "      <td>2.0</td>\n",
              "      <td>5</td>\n",
              "      <td>Reflexão</td>\n",
              "      <td>Dom Casmurro: A Novel</td>\n",
              "      <td>4</td>\n",
              "    </tr>\n",
              "    <tr>\n",
              "      <th>1</th>\n",
              "      <td>13</td>\n",
              "      <td>1.0</td>\n",
              "      <td>5</td>\n",
              "      <td>Alegria</td>\n",
              "      <td>Sesinho - Edições 101-103</td>\n",
              "      <td>4</td>\n",
              "    </tr>\n",
              "    <tr>\n",
              "      <th>3</th>\n",
              "      <td>15</td>\n",
              "      <td>1.0</td>\n",
              "      <td>5</td>\n",
              "      <td>Raiva</td>\n",
              "      <td>Querido John</td>\n",
              "      <td>4</td>\n",
              "    </tr>\n",
              "    <tr>\n",
              "      <th>5</th>\n",
              "      <td>23</td>\n",
              "      <td>2.0</td>\n",
              "      <td>5</td>\n",
              "      <td>Reflexão</td>\n",
              "      <td>O alquimista</td>\n",
              "      <td>0</td>\n",
              "    </tr>\n",
              "    <tr>\n",
              "      <th>6</th>\n",
              "      <td>26</td>\n",
              "      <td>1.0</td>\n",
              "      <td>5</td>\n",
              "      <td>Reflexão</td>\n",
              "      <td>Não sou uma dessas</td>\n",
              "      <td>0</td>\n",
              "    </tr>\n",
              "    <tr>\n",
              "      <th>...</th>\n",
              "      <td>...</td>\n",
              "      <td>...</td>\n",
              "      <td>...</td>\n",
              "      <td>...</td>\n",
              "      <td>...</td>\n",
              "      <td>...</td>\n",
              "    </tr>\n",
              "    <tr>\n",
              "      <th>108</th>\n",
              "      <td>22</td>\n",
              "      <td>1.0</td>\n",
              "      <td>5</td>\n",
              "      <td>Paixão</td>\n",
              "      <td>O Escaravelho de Ouro e outras histórias</td>\n",
              "      <td>0</td>\n",
              "    </tr>\n",
              "    <tr>\n",
              "      <th>109</th>\n",
              "      <td>13</td>\n",
              "      <td>9.0</td>\n",
              "      <td>5</td>\n",
              "      <td>Alegria</td>\n",
              "      <td>documentário - WordPress.com</td>\n",
              "      <td>4</td>\n",
              "    </tr>\n",
              "    <tr>\n",
              "      <th>110</th>\n",
              "      <td>20</td>\n",
              "      <td>2.0</td>\n",
              "      <td>5</td>\n",
              "      <td>Reflexão</td>\n",
              "      <td>O Vendedor de Sonhos: O achamento</td>\n",
              "      <td>0</td>\n",
              "    </tr>\n",
              "    <tr>\n",
              "      <th>111</th>\n",
              "      <td>14</td>\n",
              "      <td>3.0</td>\n",
              "      <td>5</td>\n",
              "      <td>Tristeza</td>\n",
              "      <td>Carandiru: a prisão, o psiquiatra e o preso</td>\n",
              "      <td>4</td>\n",
              "    </tr>\n",
              "    <tr>\n",
              "      <th>113</th>\n",
              "      <td>22</td>\n",
              "      <td>1.0</td>\n",
              "      <td>5</td>\n",
              "      <td>Reflexão</td>\n",
              "      <td>Desenho de giz</td>\n",
              "      <td>0</td>\n",
              "    </tr>\n",
              "  </tbody>\n",
              "</table>\n",
              "<p>98 rows × 6 columns</p>\n",
              "</div>"
            ],
            "text/plain": [
              "     idade_leitura  ...  cluster\n",
              "0               13  ...        4\n",
              "1               13  ...        4\n",
              "3               15  ...        4\n",
              "5               23  ...        0\n",
              "6               26  ...        0\n",
              "..             ...  ...      ...\n",
              "108             22  ...        0\n",
              "109             13  ...        4\n",
              "110             20  ...        0\n",
              "111             14  ...        4\n",
              "113             22  ...        0\n",
              "\n",
              "[98 rows x 6 columns]"
            ]
          },
          "metadata": {
            "tags": []
          },
          "execution_count": 225
        }
      ]
    },
    {
      "cell_type": "code",
      "metadata": {
        "id": "XcxXH3l79XXF",
        "outputId": "5efb84e6-4261-4f02-f378-fb7decdf45ca",
        "colab": {
          "base_uri": "https://localhost:8080/",
          "height": 710
        }
      },
      "source": [
        "import seaborn as sns\n",
        "\n",
        "sns.pairplot(ds[['idade_leitura','tempo_gasto','rating','cluster']], hue='cluster', palette='Paired')"
      ],
      "execution_count": null,
      "outputs": [
        {
          "output_type": "stream",
          "text": [
            "/usr/local/lib/python3.6/dist-packages/seaborn/distributions.py:305: UserWarning: Dataset has 0 variance; skipping density estimate.\n",
            "  warnings.warn(msg, UserWarning)\n",
            "/usr/local/lib/python3.6/dist-packages/seaborn/distributions.py:305: UserWarning: Dataset has 0 variance; skipping density estimate.\n",
            "  warnings.warn(msg, UserWarning)\n",
            "/usr/local/lib/python3.6/dist-packages/seaborn/distributions.py:305: UserWarning: Dataset has 0 variance; skipping density estimate.\n",
            "  warnings.warn(msg, UserWarning)\n",
            "/usr/local/lib/python3.6/dist-packages/seaborn/distributions.py:305: UserWarning: Dataset has 0 variance; skipping density estimate.\n",
            "  warnings.warn(msg, UserWarning)\n"
          ],
          "name": "stderr"
        },
        {
          "output_type": "execute_result",
          "data": {
            "text/plain": [
              "<seaborn.axisgrid.PairGrid at 0x7f0ea4b70828>"
            ]
          },
          "metadata": {
            "tags": []
          },
          "execution_count": 226
        },
        {
          "output_type": "display_data",
          "data": {
            "image/png": "[encoded data removed]",
            "text/plain": [
              "<Figure size 582.375x540 with 12 Axes>"
            ]
          },
          "metadata": {
            "tags": [],
            "needs_background": "light"
          }
        }
      ]
    },
    {
      "cell_type": "code",
      "metadata": {
        "id": "eg9qS2V29rAm",
        "outputId": "738dffb5-ecd3-42f2-94ec-fe15d370c453",
        "colab": {
          "base_uri": "https://localhost:8080/",
          "height": 35
        }
      },
      "source": [
        "kmeans.predict([[10,3,5]])"
      ],
      "execution_count": null,
      "outputs": [
        {
          "output_type": "execute_result",
          "data": {
            "text/plain": [
              "array([4], dtype=int32)"
            ]
          },
          "metadata": {
            "tags": []
          },
          "execution_count": 234
        }
      ]
    },
    {
      "cell_type": "code",
      "metadata": {
        "id": "yKGgqdqI-TVg",
        "outputId": "9db8e53d-896e-4c38-c5ed-44269b35c677",
        "colab": {
          "base_uri": "https://localhost:8080/",
          "height": 1000
        }
      },
      "source": [
        "ds[ds.cluster==4].livro"
      ],
      "execution_count": null,
      "outputs": [
        {
          "output_type": "execute_result",
          "data": {
            "text/plain": [
              "0                                  Dom Casmurro: A Novel\n",
              "1                              Sesinho - Edições 101-103\n",
              "3                                           Querido John\n",
              "9                   Percy Jackson e os Ladrões do Olimpo\n",
              "10                  AGVA News - Volumes 9-14 - Página 16\n",
              "12                                   B I B L I O T E C A\n",
              "13                                    O Caçador de Pipas\n",
              "17                                  Justino, o retirante\n",
              "18                                      O dia do curinga\n",
              "19                Princesa das águas: O primeiro desafio\n",
              "20                                    O Pequeno Príncipe\n",
              "22                                              O Hobbit\n",
              "29                                 Dom Casmurro: A Novel\n",
              "30                                         Jogos vorazes\n",
              "34                                              Um Beijo\n",
              "35                                 Dom Casmurro: A Novel\n",
              "37                                        Bichos, bicho!\n",
              "39                                   Halo: Saga completa\n",
              "45                                     O Ladrão de Raios\n",
              "46                                     O mar de monstros\n",
              "47                                    A maldição do Titã\n",
              "48                                A batalha do labirinto\n",
              "49                                    O último olimpiano\n",
              "50                                              A Cabana\n",
              "52                                       O herói perdido\n",
              "53                                     O filho de Netuno\n",
              "54                                      A marca de Atena\n",
              "55                                       A casa de Hades\n",
              "56                                    O sangue do Olimpo\n",
              "57                                     A espada do verão\n",
              "67                                     O Código Da Vinci\n",
              "68                                               Inferno\n",
              "71                      Harry Potter e a Pedra Filosofal\n",
              "72                                     O Ladrão de Raios\n",
              "76                         9 vezes Orgulho e Preconceito\n",
              "79                          Histórias de Sherlock Holmes\n",
              "81                                      O grande desafio\n",
              "84                      Harry Potter e a Pedra Filosofal\n",
              "85     Harry Potter E A Câmara Secreta (capa Dura) – ...\n",
              "86               Harry Potter e o prisioneiro de Azkaban\n",
              "87                                         Simples Assim\n",
              "88                       Harry Potter e o Cálice de Fogo\n",
              "89                       Harry Potter e a Ordem da Fênix\n",
              "90                   Harry Potter e o enigma do Príncipe\n",
              "91                  Harry Potter e as Relíquias da Morte\n",
              "92                                     O Ladrão de Raios\n",
              "93                                     O mar de monstros\n",
              "94                                    A maldição do Titã\n",
              "95                                A batalha do labirinto\n",
              "96                                    O último olimpiano\n",
              "97                                   Halo: Saga completa\n",
              "101                                    O QUARTO VERMELHO\n",
              "105    Divergente (trilogia) – Wikipédia, a enciclopé...\n",
              "106                                  Diário de Um Banana\n",
              "107                                             O azarão\n",
              "109                         documentário - WordPress.com\n",
              "111          Carandiru: a prisão, o psiquiatra e o preso\n",
              "Name: livro, dtype: object"
            ]
          },
          "metadata": {
            "tags": []
          },
          "execution_count": 236
        }
      ]
    },
    {
      "cell_type": "code",
      "metadata": {
        "id": "JR6gAiYm-UME",
        "outputId": "bb5eb80d-cb87-44ea-b097-c91fbe39a72a",
        "colab": {
          "base_uri": "https://localhost:8080/",
          "height": 124
        }
      },
      "source": [
        "ds.cluster.value_counts()"
      ],
      "execution_count": null,
      "outputs": [
        {
          "output_type": "execute_result",
          "data": {
            "text/plain": [
              "4    57\n",
              "0    32\n",
              "3     6\n",
              "2     2\n",
              "1     1\n",
              "Name: cluster, dtype: int64"
            ]
          },
          "metadata": {
            "tags": []
          },
          "execution_count": 227
        }
      ]
    },
    {
      "cell_type": "code",
      "metadata": {
        "id": "HspefN29-z-X"
      },
      "source": [
        ""
      ],
      "execution_count": null,
      "outputs": []
    }
  ]
}